{
 "cells": [
  {
   "cell_type": "markdown",
   "metadata": {},
   "source": [
    "## MAD Analysis"
   ]
  },
  {
   "cell_type": "code",
   "execution_count": 1,
   "metadata": {},
   "outputs": [],
   "source": [
    "import pandas as pd"
   ]
  },
  {
   "cell_type": "code",
   "execution_count": 2,
   "metadata": {},
   "outputs": [],
   "source": [
    "df = pd.read_csv('mad.csv')"
   ]
  },
  {
   "cell_type": "code",
   "execution_count": 6,
   "metadata": {},
   "outputs": [
    {
     "data": {
      "text/html": [
       "<div>\n",
       "<style scoped>\n",
       "    .dataframe tbody tr th:only-of-type {\n",
       "        vertical-align: middle;\n",
       "    }\n",
       "\n",
       "    .dataframe tbody tr th {\n",
       "        vertical-align: top;\n",
       "    }\n",
       "\n",
       "    .dataframe thead th {\n",
       "        text-align: right;\n",
       "    }\n",
       "</style>\n",
       "<table border=\"1\" class=\"dataframe\">\n",
       "  <thead>\n",
       "    <tr style=\"text-align: right;\">\n",
       "      <th></th>\n",
       "      <th>file</th>\n",
       "      <th>aes_mad</th>\n",
       "      <th>caes_mad</th>\n",
       "      <th>original_mad</th>\n",
       "    </tr>\n",
       "  </thead>\n",
       "  <tbody>\n",
       "    <tr>\n",
       "      <th>0</th>\n",
       "      <td>7.jpg</td>\n",
       "      <td>120.183655</td>\n",
       "      <td>131.960938</td>\n",
       "      <td>20838.205261</td>\n",
       "    </tr>\n",
       "    <tr>\n",
       "      <th>1</th>\n",
       "      <td>9.jpg</td>\n",
       "      <td>120.867188</td>\n",
       "      <td>123.296875</td>\n",
       "      <td>25365.031250</td>\n",
       "    </tr>\n",
       "    <tr>\n",
       "      <th>2</th>\n",
       "      <td>2.jpg</td>\n",
       "      <td>127.098816</td>\n",
       "      <td>126.543823</td>\n",
       "      <td>20641.130920</td>\n",
       "    </tr>\n",
       "    <tr>\n",
       "      <th>3</th>\n",
       "      <td>10.jpg</td>\n",
       "      <td>177.515625</td>\n",
       "      <td>177.914062</td>\n",
       "      <td>59375.218750</td>\n",
       "    </tr>\n",
       "    <tr>\n",
       "      <th>4</th>\n",
       "      <td>6.jpg</td>\n",
       "      <td>218.421875</td>\n",
       "      <td>216.367188</td>\n",
       "      <td>75763.390625</td>\n",
       "    </tr>\n",
       "    <tr>\n",
       "      <th>5</th>\n",
       "      <td>5.jpg</td>\n",
       "      <td>235.932495</td>\n",
       "      <td>217.869415</td>\n",
       "      <td>51638.740143</td>\n",
       "    </tr>\n",
       "    <tr>\n",
       "      <th>6</th>\n",
       "      <td>4.jpg</td>\n",
       "      <td>239.023438</td>\n",
       "      <td>246.742188</td>\n",
       "      <td>133378.890625</td>\n",
       "    </tr>\n",
       "    <tr>\n",
       "      <th>7</th>\n",
       "      <td>8.jpg</td>\n",
       "      <td>265.837524</td>\n",
       "      <td>269.060791</td>\n",
       "      <td>70252.714966</td>\n",
       "    </tr>\n",
       "    <tr>\n",
       "      <th>8</th>\n",
       "      <td>1.jpg</td>\n",
       "      <td>232.468750</td>\n",
       "      <td>237.585938</td>\n",
       "      <td>73373.210938</td>\n",
       "    </tr>\n",
       "    <tr>\n",
       "      <th>9</th>\n",
       "      <td>3.jpg</td>\n",
       "      <td>273.421875</td>\n",
       "      <td>287.367188</td>\n",
       "      <td>93432.453125</td>\n",
       "    </tr>\n",
       "  </tbody>\n",
       "</table>\n",
       "</div>"
      ],
      "text/plain": [
       "     file     aes_mad    caes_mad   original_mad\n",
       "0   7.jpg  120.183655  131.960938   20838.205261\n",
       "1   9.jpg  120.867188  123.296875   25365.031250\n",
       "2   2.jpg  127.098816  126.543823   20641.130920\n",
       "3  10.jpg  177.515625  177.914062   59375.218750\n",
       "4   6.jpg  218.421875  216.367188   75763.390625\n",
       "5   5.jpg  235.932495  217.869415   51638.740143\n",
       "6   4.jpg  239.023438  246.742188  133378.890625\n",
       "7   8.jpg  265.837524  269.060791   70252.714966\n",
       "8   1.jpg  232.468750  237.585938   73373.210938\n",
       "9   3.jpg  273.421875  287.367188   93432.453125"
      ]
     },
     "execution_count": 6,
     "metadata": {},
     "output_type": "execute_result"
    }
   ],
   "source": [
    "df"
   ]
  },
  {
   "cell_type": "code",
   "execution_count": 3,
   "metadata": {},
   "outputs": [
    {
     "data": {
      "text/html": [
       "<div>\n",
       "<style scoped>\n",
       "    .dataframe tbody tr th:only-of-type {\n",
       "        vertical-align: middle;\n",
       "    }\n",
       "\n",
       "    .dataframe tbody tr th {\n",
       "        vertical-align: top;\n",
       "    }\n",
       "\n",
       "    .dataframe thead th {\n",
       "        text-align: right;\n",
       "    }\n",
       "</style>\n",
       "<table border=\"1\" class=\"dataframe\">\n",
       "  <thead>\n",
       "    <tr style=\"text-align: right;\">\n",
       "      <th></th>\n",
       "      <th>aes_mad</th>\n",
       "      <th>caes_mad</th>\n",
       "      <th>original_mad</th>\n",
       "    </tr>\n",
       "  </thead>\n",
       "  <tbody>\n",
       "    <tr>\n",
       "      <th>count</th>\n",
       "      <td>10.000000</td>\n",
       "      <td>10.000000</td>\n",
       "      <td>10.000000</td>\n",
       "    </tr>\n",
       "    <tr>\n",
       "      <th>mean</th>\n",
       "      <td>201.077124</td>\n",
       "      <td>203.470840</td>\n",
       "      <td>62405.898660</td>\n",
       "    </tr>\n",
       "    <tr>\n",
       "      <th>std</th>\n",
       "      <td>59.976003</td>\n",
       "      <td>60.427154</td>\n",
       "      <td>35479.886739</td>\n",
       "    </tr>\n",
       "    <tr>\n",
       "      <th>min</th>\n",
       "      <td>120.183655</td>\n",
       "      <td>123.296875</td>\n",
       "      <td>20641.130920</td>\n",
       "    </tr>\n",
       "    <tr>\n",
       "      <th>25%</th>\n",
       "      <td>139.703018</td>\n",
       "      <td>143.449219</td>\n",
       "      <td>31933.458473</td>\n",
       "    </tr>\n",
       "    <tr>\n",
       "      <th>50%</th>\n",
       "      <td>225.445312</td>\n",
       "      <td>217.118301</td>\n",
       "      <td>64813.966858</td>\n",
       "    </tr>\n",
       "    <tr>\n",
       "      <th>75%</th>\n",
       "      <td>238.250702</td>\n",
       "      <td>244.453125</td>\n",
       "      <td>75165.845703</td>\n",
       "    </tr>\n",
       "    <tr>\n",
       "      <th>max</th>\n",
       "      <td>273.421875</td>\n",
       "      <td>287.367188</td>\n",
       "      <td>133378.890625</td>\n",
       "    </tr>\n",
       "  </tbody>\n",
       "</table>\n",
       "</div>"
      ],
      "text/plain": [
       "          aes_mad    caes_mad   original_mad\n",
       "count   10.000000   10.000000      10.000000\n",
       "mean   201.077124  203.470840   62405.898660\n",
       "std     59.976003   60.427154   35479.886739\n",
       "min    120.183655  123.296875   20641.130920\n",
       "25%    139.703018  143.449219   31933.458473\n",
       "50%    225.445312  217.118301   64813.966858\n",
       "75%    238.250702  244.453125   75165.845703\n",
       "max    273.421875  287.367188  133378.890625"
      ]
     },
     "execution_count": 3,
     "metadata": {},
     "output_type": "execute_result"
    }
   ],
   "source": [
    "df.describe()"
   ]
  },
  {
   "cell_type": "markdown",
   "metadata": {},
   "source": [
    "## Uji Statistik\n",
    "* Hipotesis Nol: Selisih rata rata MAD dari AES - CAES >= 0\n",
    "* Hipotesis Alternatif : Selisih rata-rata MAD dari AES - CAES < 0"
   ]
  },
  {
   "cell_type": "code",
   "execution_count": 4,
   "metadata": {},
   "outputs": [],
   "source": [
    "import numpy as np\n",
    "from scipy.stats import t"
   ]
  },
  {
   "cell_type": "code",
   "execution_count": 5,
   "metadata": {},
   "outputs": [
    {
     "data": {
      "text/plain": [
       "-1.7291328115213678"
      ]
     },
     "execution_count": 5,
     "metadata": {},
     "output_type": "execute_result"
    }
   ],
   "source": [
    "n = 10 # Jumlah data\n",
    "\n",
    "ba = t.ppf(0.05, 2*n - 1)\n",
    "ba"
   ]
  },
  {
   "cell_type": "code",
   "execution_count": 7,
   "metadata": {},
   "outputs": [],
   "source": [
    "avg = df.iloc[:,1:].abs().mean(axis=0)\n",
    "std = df.iloc[:,1:].abs().std(axis=0)"
   ]
  },
  {
   "cell_type": "code",
   "execution_count": 8,
   "metadata": {},
   "outputs": [
    {
     "data": {
      "text/plain": [
       "aes_mad           201.077124\n",
       "caes_mad          203.470840\n",
       "original_mad    62405.898660\n",
       "dtype: float64"
      ]
     },
     "execution_count": 8,
     "metadata": {},
     "output_type": "execute_result"
    }
   ],
   "source": [
    "avg"
   ]
  },
  {
   "cell_type": "code",
   "execution_count": 9,
   "metadata": {},
   "outputs": [
    {
     "data": {
      "text/plain": [
       "aes_mad            59.976003\n",
       "caes_mad           60.427154\n",
       "original_mad    35479.886739\n",
       "dtype: float64"
      ]
     },
     "execution_count": 9,
     "metadata": {},
     "output_type": "execute_result"
    }
   ],
   "source": [
    "std"
   ]
  },
  {
   "cell_type": "code",
   "execution_count": 11,
   "metadata": {},
   "outputs": [
    {
     "data": {
      "text/plain": [
       "-0.08890921504766469"
      ]
     },
     "execution_count": 11,
     "metadata": {},
     "output_type": "execute_result"
    }
   ],
   "source": [
    "t = (avg.iloc[0] - avg.iloc[1]) / np.sqrt((n - 1) * std.iloc[0] ** 2 + (n - 1) * std.iloc[1] ** 2) * np.sqrt(n * n * (2*n-2) / (2*n))\n",
    "t"
   ]
  },
  {
   "cell_type": "markdown",
   "metadata": {},
   "source": [
    "Jadi, H_0 diterima karena t >= -1.729"
   ]
  }
 ],
 "metadata": {
  "kernelspec": {
   "display_name": ".venv",
   "language": "python",
   "name": "python3"
  },
  "language_info": {
   "codemirror_mode": {
    "name": "ipython",
    "version": 3
   },
   "file_extension": ".py",
   "mimetype": "text/x-python",
   "name": "python",
   "nbconvert_exporter": "python",
   "pygments_lexer": "ipython3",
   "version": "3.12.3"
  }
 },
 "nbformat": 4,
 "nbformat_minor": 2
}
