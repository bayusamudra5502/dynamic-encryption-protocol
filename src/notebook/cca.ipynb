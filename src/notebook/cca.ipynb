{
 "cells": [
  {
   "cell_type": "markdown",
   "metadata": {},
   "source": [
    "## CCA Analysis"
   ]
  },
  {
   "cell_type": "code",
   "execution_count": 1,
   "metadata": {},
   "outputs": [],
   "source": [
    "import pandas as pd"
   ]
  },
  {
   "cell_type": "code",
   "execution_count": 2,
   "metadata": {},
   "outputs": [],
   "source": [
    "df = pd.read_csv('result.csv')"
   ]
  },
  {
   "cell_type": "code",
   "execution_count": 5,
   "metadata": {},
   "outputs": [
    {
     "data": {
      "text/html": [
       "<div>\n",
       "<style scoped>\n",
       "    .dataframe tbody tr th:only-of-type {\n",
       "        vertical-align: middle;\n",
       "    }\n",
       "\n",
       "    .dataframe tbody tr th {\n",
       "        vertical-align: top;\n",
       "    }\n",
       "\n",
       "    .dataframe thead th {\n",
       "        text-align: right;\n",
       "    }\n",
       "</style>\n",
       "<table border=\"1\" class=\"dataframe\">\n",
       "  <thead>\n",
       "    <tr style=\"text-align: right;\">\n",
       "      <th></th>\n",
       "      <th>right_aes_corr</th>\n",
       "      <th>right_caes_corr</th>\n",
       "      <th>bottom_aes_corr</th>\n",
       "      <th>bottom_caes_corr</th>\n",
       "      <th>diagonal_aes_corr</th>\n",
       "      <th>diagonal_caes_corr</th>\n",
       "    </tr>\n",
       "  </thead>\n",
       "  <tbody>\n",
       "    <tr>\n",
       "      <th>count</th>\n",
       "      <td>10.000000</td>\n",
       "      <td>10.000000</td>\n",
       "      <td>10.000000</td>\n",
       "      <td>10.000000</td>\n",
       "      <td>10.000000</td>\n",
       "      <td>10.000000</td>\n",
       "    </tr>\n",
       "    <tr>\n",
       "      <th>mean</th>\n",
       "      <td>0.000068</td>\n",
       "      <td>-0.000068</td>\n",
       "      <td>-0.000112</td>\n",
       "      <td>-0.000025</td>\n",
       "      <td>-0.000036</td>\n",
       "      <td>-0.000223</td>\n",
       "    </tr>\n",
       "    <tr>\n",
       "      <th>std</th>\n",
       "      <td>0.000183</td>\n",
       "      <td>0.000199</td>\n",
       "      <td>0.000251</td>\n",
       "      <td>0.000232</td>\n",
       "      <td>0.000337</td>\n",
       "      <td>0.000346</td>\n",
       "    </tr>\n",
       "    <tr>\n",
       "      <th>min</th>\n",
       "      <td>-0.000125</td>\n",
       "      <td>-0.000498</td>\n",
       "      <td>-0.000539</td>\n",
       "      <td>-0.000320</td>\n",
       "      <td>-0.000426</td>\n",
       "      <td>-0.000763</td>\n",
       "    </tr>\n",
       "    <tr>\n",
       "      <th>25%</th>\n",
       "      <td>-0.000096</td>\n",
       "      <td>-0.000142</td>\n",
       "      <td>-0.000301</td>\n",
       "      <td>-0.000185</td>\n",
       "      <td>-0.000290</td>\n",
       "      <td>-0.000450</td>\n",
       "    </tr>\n",
       "    <tr>\n",
       "      <th>50%</th>\n",
       "      <td>0.000040</td>\n",
       "      <td>-0.000037</td>\n",
       "      <td>-0.000059</td>\n",
       "      <td>-0.000062</td>\n",
       "      <td>-0.000128</td>\n",
       "      <td>-0.000154</td>\n",
       "    </tr>\n",
       "    <tr>\n",
       "      <th>75%</th>\n",
       "      <td>0.000191</td>\n",
       "      <td>0.000038</td>\n",
       "      <td>0.000037</td>\n",
       "      <td>0.000101</td>\n",
       "      <td>0.000110</td>\n",
       "      <td>0.000060</td>\n",
       "    </tr>\n",
       "    <tr>\n",
       "      <th>max</th>\n",
       "      <td>0.000341</td>\n",
       "      <td>0.000202</td>\n",
       "      <td>0.000313</td>\n",
       "      <td>0.000381</td>\n",
       "      <td>0.000558</td>\n",
       "      <td>0.000230</td>\n",
       "    </tr>\n",
       "  </tbody>\n",
       "</table>\n",
       "</div>"
      ],
      "text/plain": [
       "       right_aes_corr  right_caes_corr  bottom_aes_corr  bottom_caes_corr  \\\n",
       "count       10.000000        10.000000        10.000000         10.000000   \n",
       "mean         0.000068        -0.000068        -0.000112         -0.000025   \n",
       "std          0.000183         0.000199         0.000251          0.000232   \n",
       "min         -0.000125        -0.000498        -0.000539         -0.000320   \n",
       "25%         -0.000096        -0.000142        -0.000301         -0.000185   \n",
       "50%          0.000040        -0.000037        -0.000059         -0.000062   \n",
       "75%          0.000191         0.000038         0.000037          0.000101   \n",
       "max          0.000341         0.000202         0.000313          0.000381   \n",
       "\n",
       "       diagonal_aes_corr  diagonal_caes_corr  \n",
       "count          10.000000           10.000000  \n",
       "mean           -0.000036           -0.000223  \n",
       "std             0.000337            0.000346  \n",
       "min            -0.000426           -0.000763  \n",
       "25%            -0.000290           -0.000450  \n",
       "50%            -0.000128           -0.000154  \n",
       "75%             0.000110            0.000060  \n",
       "max             0.000558            0.000230  "
      ]
     },
     "execution_count": 5,
     "metadata": {},
     "output_type": "execute_result"
    }
   ],
   "source": [
    "df.describe()"
   ]
  },
  {
   "cell_type": "markdown",
   "metadata": {},
   "source": [
    "## Uji Statistik\n",
    "* Hipotesis Nol: Selisih rata rata corr absolute dari AES - CAES >= 0\n",
    "* Hipotesis Alternatif : Rata-rata nilai absolute AES - CAES < 0"
   ]
  },
  {
   "cell_type": "code",
   "execution_count": 6,
   "metadata": {},
   "outputs": [],
   "source": [
    "import numpy as np\n",
    "from scipy.stats import t"
   ]
  },
  {
   "cell_type": "code",
   "execution_count": 11,
   "metadata": {},
   "outputs": [
    {
     "data": {
      "text/plain": [
       "-1.7291328115213678"
      ]
     },
     "execution_count": 11,
     "metadata": {},
     "output_type": "execute_result"
    }
   ],
   "source": [
    "n = 10 # Jumlah data\n",
    "\n",
    "ba = t.ppf(0.05, 2*n - 1)\n",
    "ba"
   ]
  },
  {
   "cell_type": "code",
   "execution_count": 31,
   "metadata": {},
   "outputs": [],
   "source": [
    "avg = df.iloc[:,1:].abs().mean(axis=0)\n",
    "std = df.iloc[:,1:].abs().std(axis=0)"
   ]
  },
  {
   "cell_type": "code",
   "execution_count": 34,
   "metadata": {},
   "outputs": [
    {
     "data": {
      "text/plain": [
       "right_aes_corr        0.000165\n",
       "right_caes_corr       0.000150\n",
       "bottom_aes_corr       0.000207\n",
       "bottom_caes_corr      0.000193\n",
       "diagonal_aes_corr     0.000278\n",
       "diagonal_caes_corr    0.000310\n",
       "dtype: float64"
      ]
     },
     "execution_count": 34,
     "metadata": {},
     "output_type": "execute_result"
    }
   ],
   "source": [
    "avg"
   ]
  },
  {
   "cell_type": "code",
   "execution_count": 28,
   "metadata": {},
   "outputs": [
    {
     "data": {
      "text/plain": [
       "right_aes_corr        0.000183\n",
       "right_caes_corr       0.000199\n",
       "bottom_aes_corr       0.000251\n",
       "bottom_caes_corr      0.000232\n",
       "diagonal_aes_corr     0.000337\n",
       "diagonal_caes_corr    0.000346\n",
       "dtype: float64"
      ]
     },
     "execution_count": 28,
     "metadata": {},
     "output_type": "execute_result"
    }
   ],
   "source": [
    "std"
   ]
  },
  {
   "cell_type": "code",
   "execution_count": 38,
   "metadata": {},
   "outputs": [
    {
     "data": {
      "text/plain": [
       "0.2770682718324754"
      ]
     },
     "execution_count": 38,
     "metadata": {},
     "output_type": "execute_result"
    }
   ],
   "source": [
    "t_right = (avg.iloc[0] - avg.iloc[1]) / np.sqrt((n - 1) * std.iloc[0] ** 2 + (n - 1) * std.iloc[1] ** 2) * np.sqrt(n * n * (2*n-2) / (2*n))\n",
    "t_right"
   ]
  },
  {
   "cell_type": "code",
   "execution_count": 40,
   "metadata": {},
   "outputs": [
    {
     "data": {
      "text/plain": [
       "0.21865629893443314"
      ]
     },
     "execution_count": 40,
     "metadata": {},
     "output_type": "execute_result"
    }
   ],
   "source": [
    "t_bottom =  (avg.iloc[2] - avg.iloc[3]) / np.sqrt((n - 1) * std.iloc[2] ** 2 + (n - 1) * std.iloc[3] ** 2) * np.sqrt(n * n * (2*n-2) / (2*n))\n",
    "t_bottom"
   ]
  },
  {
   "cell_type": "code",
   "execution_count": 42,
   "metadata": {},
   "outputs": [
    {
     "data": {
      "text/plain": [
       "-0.32474219888474987"
      ]
     },
     "execution_count": 42,
     "metadata": {},
     "output_type": "execute_result"
    }
   ],
   "source": [
    "t_diagonal = (avg.iloc[4] - avg.iloc[5]) / np.sqrt((n - 1) * std.iloc[4] ** 2 + (n - 1) * std.iloc[5] ** 2) * np.sqrt(n * n * (2*n-2) / (2*n))\n",
    "t_diagonal"
   ]
  }
 ],
 "metadata": {
  "kernelspec": {
   "display_name": ".venv",
   "language": "python",
   "name": "python3"
  },
  "language_info": {
   "codemirror_mode": {
    "name": "ipython",
    "version": 3
   },
   "file_extension": ".py",
   "mimetype": "text/x-python",
   "name": "python",
   "nbconvert_exporter": "python",
   "pygments_lexer": "ipython3",
   "version": "3.12.3"
  }
 },
 "nbformat": 4,
 "nbformat_minor": 2
}
